{
 "cells": [
  {
   "cell_type": "code",
   "execution_count": null,
   "id": "1dd81a17-1ad8-488f-a1bd-fee81fa07fbc",
   "metadata": {},
   "outputs": [],
   "source": [
    "import pandas as pd\n",
    "\n",
    "df = pd.read_excel('/seu_caminho/base_final_metropole.xlsx')"
   ]
  },
  {
   "cell_type": "code",
   "execution_count": null,
   "id": "b7455f67-a251-420b-9c7a-a389298a713f",
   "metadata": {},
   "outputs": [],
   "source": [
    "# Visualização das primeiras linhas do DataFrame\n",
    "df.head()"
   ]
  },
  {
   "cell_type": "code",
   "execution_count": null,
   "id": "7d549b40-d76e-4f91-93df-3536c093daba",
   "metadata": {},
   "outputs": [],
   "source": [
    "# Seleção das colunas\n",
    "colunas_selecionadas = ['Márcia', 'CNPJ', 'RAZAO_SOCIAL', 'NOME_MUNICIPIO', 'CORREIO_ELETRONICO', 'DDD_1', 'TELEFONE_1', 'CONTATO_VAZIO', 'DDD_2', 'TELEFONE_2', 'DDD_FAX', 'FAX', 'CAPITAL_SOCIAL']\n",
    "base_atualizada = df[colunas_selecionadas]\n",
    "\n",
    "base_atualizada.head()"
   ]
  },
  {
   "cell_type": "code",
   "execution_count": null,
   "id": "5e4cf8e8-5667-4572-bfe9-b6616108160a",
   "metadata": {},
   "outputs": [],
   "source": [
    "# Divisão do DataFrame em partes de 5.000 linhas\n",
    "partes = [base_atualizada[i:i+5000] for i in range(0, len(base_atualizada), 5000)]\n",
    "\n",
    "# Trabalho com cada parte do DataFrame\n",
    "for idx, parte in enumerate(partes):\n",
    "    print(f'Parte {idx+1}:')\n",
    "    print(parte.head())  # Exibir as primeiras linhas de cada parte, opcional\n",
    "\n",
    "    # Para outras operações com cada parte, como salvar em um arquivo\n",
    "    parte.to_excel(f'parte_{idx+1}.xlsx', index=False)"
   ]
  },
  {
   "cell_type": "code",
   "execution_count": null,
   "id": "291eabb9-5f15-44e0-be5d-e74103d75f0c",
   "metadata": {},
   "outputs": [],
   "source": [
    "from flask import Flask, send_file\n",
    "import pandas as pd\n",
    "\n",
    "app = Flask(__name__)\n",
    "\n",
    "# Carregamento do arquivo Excel para um DataFrame\n",
    "df = pd.read_excel('/home/rodrigo/Downloads/MA2V - base_final_metropole.xlsx')\n",
    "\n",
    "# Mudança do nome da coluna 'Márcia' para 'pessoa_vendedora'\n",
    "df.rename(columns={'Márcia': 'pessoa_vendedora'}, inplace=True)\n",
    "\n",
    "# Divisão do DataFrame em partes de 5.000 linhas\n",
    "partes = [df[i:i+5000] for i in range(0, len(df), 5000)]\n",
    "\n",
    "# Adição de uma coluna para enumerar as linhas de forma cumulativa para cada parte\n",
    "for idx, parte in enumerate(partes):\n",
    "    parte['linha_cumulativa'] = parte.index + 1  # Começando em 1\n",
    "    nome_arquivo = f'MA2V - base_final_metropole - Parte {idx+1}.xlsx'\n",
    "    parte.to_excel(nome_arquivo, index=False)\n",
    "\n",
    "@app.route('/download/<int:num_parte>')\n",
    "def download_file(num_parte):\n",
    "    nome_arquivo = f'MA2V - base_final_metropole - Parte {num_parte}.xlsx'\n",
    "    return send_file(nome_arquivo, as_attachment=True)\n",
    "\n",
    "if __name__ == '__main__':\n",
    "    app.run()"
   ]
  }
 ],
 "metadata": {
  "kernelspec": {
   "display_name": "Python 3 (ipykernel)",
   "language": "python",
   "name": "python3"
  },
  "language_info": {
   "codemirror_mode": {
    "name": "ipython",
    "version": 3
   },
   "file_extension": ".py",
   "mimetype": "text/x-python",
   "name": "python",
   "nbconvert_exporter": "python",
   "pygments_lexer": "ipython3",
   "version": "3.8.10"
  }
 },
 "nbformat": 4,
 "nbformat_minor": 5
}
