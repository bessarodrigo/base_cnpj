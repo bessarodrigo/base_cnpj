{
 "cells": [
  {
   "cell_type": "code",
   "execution_count": null,
   "id": "1dd81a17-1ad8-488f-a1bd-fee81fa07fbc",
   "metadata": {},
   "outputs": [],
   "source": [
    "from flask import Flask, send_file\n",
    "import pandas as pd\n",
    "\n",
    "df = pd.read_csv('data-1722616783497.csv')"
   ]
  },
  {
   "cell_type": "code",
   "execution_count": null,
   "id": "b7455f67-a251-420b-9c7a-a389298a713f",
   "metadata": {},
   "outputs": [],
   "source": [
    "# Visualização das primeiras linhas do DataFrame\n",
    "df.head()"
   ]
  },
  {
   "cell_type": "code",
   "execution_count": null,
   "id": "7d549b40-d76e-4f91-93df-3536c093daba",
   "metadata": {},
   "outputs": [],
   "source": [
    "# Seleção das colunas\n",
    "columns_to_drop = ['correio_eletronico']\n",
    "columns_to_drop = [col for col in columns_to_drop if col in df.columns]\n",
    "df.drop(columns=columns_to_drop, inplace=True)"
   ]
  },
  {
   "cell_type": "code",
   "execution_count": null,
   "id": "5e4cf8e8-5667-4572-bfe9-b6616108160a",
   "metadata": {},
   "outputs": [],
   "source": [
    "# Divisão do DataFrame em partes de 100.000 linhas\n",
    "partes = [df[i:i+100000] for i in range(0, len(df), 100000)]\n",
    "\n",
    "# Adição de uma coluna para enumerar as linhas de forma cumulativa para cada parte\n",
    "for idx, parte in enumerate(partes):\n",
    "    parte['linha_cumulativa'] = parte.index + 1  # Começando em 1\n",
    "    nome_arquivo = f'MA2V - base_final_sp - Parte {idx+1}.xlsx'\n",
    "    parte.to_excel(nome_arquivo, index=False)"
   ]
  },
  {
   "cell_type": "code",
   "execution_count": null,
   "id": "291eabb9-5f15-44e0-be5d-e74103d75f0c",
   "metadata": {},
   "outputs": [],
   "source": [
    "# Configuração do Flask\n",
    "app = Flask(__name__)\n",
    "\n",
    "@app.route('/download/<int:num_parte>')\n",
    "def download_file(num_parte):\n",
    "    nome_arquivo = f'MA2V - base_final_sp - Parte {num_parte}.xlsx'\n",
    "    try:\n",
    "        return send_file(nome_arquivo, as_attachment=True)\n",
    "    except FileNotFoundError:\n",
    "        return \"Arquivo não encontrado\", 404\n",
    "\n",
    "if __name__ == '__main__':\n",
    "    app.run()"
   ]
  }
 ],
 "metadata": {
  "kernelspec": {
   "display_name": "Python 3 (ipykernel)",
   "language": "python",
   "name": "python3"
  },
  "language_info": {
   "codemirror_mode": {
    "name": "ipython",
    "version": 3
   },
   "file_extension": ".py",
   "mimetype": "text/x-python",
   "name": "python",
   "nbconvert_exporter": "python",
   "pygments_lexer": "ipython3",
   "version": "3.8.10"
  }
 },
 "nbformat": 4,
 "nbformat_minor": 5
}
